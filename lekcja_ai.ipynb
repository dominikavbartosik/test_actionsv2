{
 "cells": [
  {
   "cell_type": "code",
   "execution_count": 1,
   "id": "66b96479-d81e-446f-9768-8c42e3646857",
   "metadata": {},
   "outputs": [],
   "source": [
    "import os\n",
    "import string\n",
    "from collections import defaultdict\n",
    "import re"
   ]
  },
  {
   "cell_type": "code",
   "execution_count": 2,
   "id": "84f7d912-806c-474c-99e2-33d7cf958c1a",
   "metadata": {},
   "outputs": [],
   "source": [
    "def letter_freq(text: str):\n",
    "    text = [x for x in text.lower() if x in string.ascii_lowercase]\n",
    "    total_len = len(text)\n",
    "\n",
    "    freq = defaultdict(int)\n",
    "    for c in string.ascii_lowercase:\n",
    "        freq[c] = 0\n",
    "        \n",
    "    for c in text:\n",
    "        freq[c] += 1\n",
    "    return [v/total_len for v in freq.values()]"
   ]
  },
  {
   "cell_type": "code",
   "execution_count": 3,
   "id": "c561bf78-2f9b-475b-8f0b-e8200a4c93f8",
   "metadata": {},
   "outputs": [
    {
     "data": {
      "text/plain": [
       "[0.75,\n",
       " 0.25,\n",
       " 0.0,\n",
       " 0.0,\n",
       " 0.0,\n",
       " 0.0,\n",
       " 0.0,\n",
       " 0.0,\n",
       " 0.0,\n",
       " 0.0,\n",
       " 0.0,\n",
       " 0.0,\n",
       " 0.0,\n",
       " 0.0,\n",
       " 0.0,\n",
       " 0.0,\n",
       " 0.0,\n",
       " 0.0,\n",
       " 0.0,\n",
       " 0.0,\n",
       " 0.0,\n",
       " 0.0,\n",
       " 0.0,\n",
       " 0.0,\n",
       " 0.0,\n",
       " 0.0]"
      ]
     },
     "execution_count": 3,
     "metadata": {},
     "output_type": "execute_result"
    }
   ],
   "source": [
    "letter_freq(\"aaab\")"
   ]
  },
  {
   "cell_type": "code",
   "execution_count": 4,
   "id": "5534e3f3-221b-4371-8190-9766b8941206",
   "metadata": {},
   "outputs": [],
   "source": [
    "def load_data(path: str):\n",
    "    files = os.listdir(path)\n",
    "    data = []\n",
    "    labels = []\n",
    "    for file in files:\n",
    "        with open(os.path.join(path, file), \"r\", encoding=\"utf-8\") as f:\n",
    "            file_data = letter_freq(f.read())\n",
    "            language = re.match(r'[A-Za-z0-9]+_([a-z]{2})\\.txt', file)\n",
    "            data.append(file_data)\n",
    "            labels.append(language.group(1))\n",
    "    return data, labels"
   ]
  },
  {
   "cell_type": "code",
   "execution_count": 5,
   "id": "e748cc54-b122-49fb-92ca-93d319f3812f",
   "metadata": {},
   "outputs": [
    {
     "data": {
      "text/plain": [
       "[[0.08530522966792603,\n",
       "  0.02704314973155697,\n",
       "  0.03619009743487771,\n",
       "  0.03559355736726984,\n",
       "  0.11712069994034599,\n",
       "  0.020680055677072977,\n",
       "  0.020083515609465103,\n",
       "  0.05786438655796381,\n",
       "  0.06323324716643468,\n",
       "  0.006164247365281368,\n",
       "  0.006959634122091867,\n",
       "  0.03976933784052496,\n",
       "  0.0208789023662756,\n",
       "  0.0618413203420163,\n",
       "  0.06402863392324518,\n",
       "  0.014316961622588983,\n",
       "  0.00019884668920262477,\n",
       "  0.07019288128852655,\n",
       "  0.07178365480214755,\n",
       "  0.10379797176377013,\n",
       "  0.03996818452972758,\n",
       "  0.007755020878902366,\n",
       "  0.013919268244183734,\n",
       "  0.000994233446013124,\n",
       "  0.014316961622588983,\n",
       "  0.0],\n",
       " [0.11355034065102196,\n",
       "  0.00984102952308857,\n",
       "  0.045041635124905374,\n",
       "  0.03368660105980318,\n",
       "  0.13626040878122633,\n",
       "  0.010219530658591975,\n",
       "  0.019303557910673733,\n",
       "  0.006813020439061317,\n",
       "  0.10068130204390613,\n",
       "  0.0,\n",
       "  0.0,\n",
       "  0.06699470098410296,\n",
       "  0.025738077214231644,\n",
       "  0.06510219530658592,\n",
       "  0.08516275548826646,\n",
       "  0.0291445874337623,\n",
       "  0.002271006813020439,\n",
       "  0.06926570779712339,\n",
       "  0.05866767600302801,\n",
       "  0.08364875094625283,\n",
       "  0.020817562452687358,\n",
       "  0.014004542013626041,\n",
       "  0.0,\n",
       "  0.0,\n",
       "  0.0,\n",
       "  0.003785011355034065],\n",
       " [0.07561532605937579,\n",
       "  0.022075615326059377,\n",
       "  0.02537427048972342,\n",
       "  0.04592742958639939,\n",
       "  0.12814006597310326,\n",
       "  0.024359299670134484,\n",
       "  0.017254503933011926,\n",
       "  0.05430093884800812,\n",
       "  0.06521187515858919,\n",
       "  0.0053285968028419185,\n",
       "  0.01750824663790916,\n",
       "  0.05100228368434408,\n",
       "  0.019030702867292564,\n",
       "  0.07764526769855366,\n",
       "  0.07003298655163664,\n",
       "  0.01623953311342299,\n",
       "  0.001268713524486171,\n",
       "  0.05962953565085004,\n",
       "  0.07485409794468409,\n",
       "  0.07663029687896473,\n",
       "  0.02461304237503172,\n",
       "  0.0096422227860949,\n",
       "  0.021568129916264906,\n",
       "  0.0038061405734585133,\n",
       "  0.012433392539964476,\n",
       "  0.0005074854097944684],\n",
       " [0.10428619642254472,\n",
       "  0.006243671954100574,\n",
       "  0.03442456969287884,\n",
       "  0.04454944313196085,\n",
       "  0.1130610867364158,\n",
       "  0.00809989875126561,\n",
       "  0.02564967937900776,\n",
       "  0.005568680391495107,\n",
       "  0.1400607492406345,\n",
       "  0.00016874789065136686,\n",
       "  0.00641241984475194,\n",
       "  0.06648666891663854,\n",
       "  0.02632467094161323,\n",
       "  0.07154910563617954,\n",
       "  0.08201147485656429,\n",
       "  0.03408707391157611,\n",
       "  0.003712453594330071,\n",
       "  0.05028687141410732,\n",
       "  0.042861964225447184,\n",
       "  0.06935538305771177,\n",
       "  0.033580830239622,\n",
       "  0.015187310158623017,\n",
       "  0.006749915626054675,\n",
       "  0.00016874789065136686,\n",
       "  0.0003374957813027337,\n",
       "  0.008774890313871077],\n",
       " [0.08354529446292311,\n",
       "  0.013891606339268244,\n",
       "  0.028761494815104677,\n",
       "  0.05400117393856388,\n",
       "  0.12208961064370964,\n",
       "  0.01780473488554099,\n",
       "  0.026217961260027393,\n",
       "  0.05654470749364117,\n",
       "  0.07043631383290941,\n",
       "  0.002347877127763647,\n",
       "  0.012522011348072784,\n",
       "  0.03854431618078654,\n",
       "  0.030131089806300138,\n",
       "  0.07747994521620036,\n",
       "  0.06339268244961847,\n",
       "  0.019956955585991,\n",
       "  0.0003913128546272745,\n",
       "  0.05224026609274115,\n",
       "  0.0751320680884367,\n",
       "  0.0813930737624731,\n",
       "  0.02778321267853649,\n",
       "  0.010369790647622775,\n",
       "  0.02073958129524555,\n",
       "  0.0003913128546272745,\n",
       "  0.013695949911954608,\n",
       "  0.00019565642731363725],\n",
       " [0.11144859813084113,\n",
       "  0.00911214953271028,\n",
       "  0.04007009345794393,\n",
       "  0.041121495327102804,\n",
       "  0.11460280373831776,\n",
       "  0.008995327102803739,\n",
       "  0.016588785046728973,\n",
       "  0.013434579439252336,\n",
       "  0.12149532710280374,\n",
       "  0.0,\n",
       "  0.00023364485981308412,\n",
       "  0.07464953271028038,\n",
       "  0.026518691588785046,\n",
       "  0.07242990654205607,\n",
       "  0.08352803738317757,\n",
       "  0.02453271028037383,\n",
       "  0.001869158878504673,\n",
       "  0.0669392523364486,\n",
       "  0.0514018691588785,\n",
       "  0.06670560747663551,\n",
       "  0.024182242990654204,\n",
       "  0.015186915887850467,\n",
       "  0.0014018691588785046,\n",
       "  0.00011682242990654206,\n",
       "  0.0,\n",
       "  0.013434579439252336]]"
      ]
     },
     "execution_count": 5,
     "metadata": {},
     "output_type": "execute_result"
    }
   ],
   "source": [
    "data, labels = load_data(\"./dataset/train\")\n",
    "data"
   ]
  },
  {
   "cell_type": "code",
   "execution_count": 6,
   "id": "007d9e0b-214e-4d0b-b263-92e75ebc489a",
   "metadata": {},
   "outputs": [
    {
     "data": {
      "text/plain": [
       "['en', 'it', 'en', 'it', 'en', 'it']"
      ]
     },
     "execution_count": 6,
     "metadata": {},
     "output_type": "execute_result"
    }
   ],
   "source": [
    "labels"
   ]
  },
  {
   "cell_type": "code",
   "execution_count": 7,
   "id": "5f137d6c-5f9c-478c-a043-d37a339c2f6a",
   "metadata": {},
   "outputs": [],
   "source": [
    "def encode_labels(labels):\n",
    "    return [1 if label == \"en\" else -1 for label in labels]"
   ]
  },
  {
   "cell_type": "code",
   "execution_count": 16,
   "id": "337633b0-583d-4648-a8d0-9f31ee5fa427",
   "metadata": {},
   "outputs": [
    {
     "data": {
      "text/plain": [
       "[1, -1, 1, -1, 1, -1]"
      ]
     },
     "execution_count": 16,
     "metadata": {},
     "output_type": "execute_result"
    }
   ],
   "source": [
    "encoded_labels = encode_labels(labels)\n",
    "encoded_labels"
   ]
  },
  {
   "cell_type": "code",
   "execution_count": 24,
   "id": "b0e603c8-54bd-4a42-9871-738c0aae768f",
   "metadata": {},
   "outputs": [],
   "source": [
    "def train(data, labels, epochs, learning_rate):\n",
    "    num_features = len(data[0])\n",
    "    weights = [0] * num_features\n",
    "    bias = 0\n",
    "\n",
    "    def activation(x):\n",
    "        return 1 if x >= 0 else -1\n",
    "\n",
    "    for epoch in range(epochs):\n",
    "        for x, y in zip(data, labels):\n",
    "            output = 0\n",
    "            for w, f in zip(weights, x):\n",
    "                output += w * f\n",
    "            output += bias\n",
    "            prediction = activation(output)\n",
    "\n",
    "            if prediction != y:\n",
    "                for i in range(num_features):\n",
    "                    weights[i] += x[i] * y #* learning_rate\n",
    "                bias += learning_rate * y\n",
    "    \n",
    "    return weights, bias"
   ]
  },
  {
   "cell_type": "code",
   "execution_count": 25,
   "id": "58dc8bfa-9204-408f-ba81-dad90293ca6b",
   "metadata": {},
   "outputs": [
    {
     "data": {
      "text/plain": [
       "([-0.4597586408862232,\n",
       "  0.2499460314967855,\n",
       "  -0.17450969791584497,\n",
       "  0.15656709761874793,\n",
       "  0.10834834102006989,\n",
       "  0.23985060296059807,\n",
       "  0.03306704033922825,\n",
       "  0.9069310058860688,\n",
       "  -0.8413893224987412,\n",
       "  0.09067865269063632,\n",
       "  0.21738228603830212,\n",
       "  -0.41044560237922506,\n",
       "  -0.04214096484552153,\n",
       "  0.13801636547178692,\n",
       "  -0.24911705943079765,\n",
       "  -0.20109844422577294,\n",
       "  -0.030933469548270354,\n",
       "  0.0024862413495573485,\n",
       "  0.4559945729332576,\n",
       "  0.2959503897660212,\n",
       "  0.12967223104738954,\n",
       "  -0.08839021127031589,\n",
       "  0.3243476778139597,\n",
       "  0.0369951633948385,\n",
       "  0.25249867648981184,\n",
       "  -0.14094896331634688],\n",
       " 0.1)"
      ]
     },
     "execution_count": 25,
     "metadata": {},
     "output_type": "execute_result"
    }
   ],
   "source": [
    "weights, bias = train(data, encoded_labels, epochs=10, learning_rate=0.1)\n",
    "weights, bias"
   ]
  },
  {
   "cell_type": "code",
   "execution_count": 26,
   "id": "fa696a45-4dc0-4a4d-87e2-1509b584cf86",
   "metadata": {},
   "outputs": [],
   "source": [
    "def test(weights, bias, text):\n",
    "    def activation(x):\n",
    "        return 1 if x >= 0 else -1\n",
    "\n",
    "    data = letter_freq(text)\n",
    "    \n",
    "    output = 0\n",
    "    for w, f in zip(weights, data):\n",
    "        output += w * f\n",
    "    output += bias\n",
    "    prediction = activation(output)\n",
    "    return \"en\" if prediction == 1 else \"it\""
   ]
  },
  {
   "cell_type": "code",
   "execution_count": 27,
   "id": "62d11a3f-d66f-4da8-93d8-45d907a43f9b",
   "metadata": {},
   "outputs": [
    {
     "data": {
      "text/plain": [
       "'en'"
      ]
     },
     "execution_count": 27,
     "metadata": {},
     "output_type": "execute_result"
    }
   ],
   "source": [
    "text = \"SMS Friedrich Carl was an armored cruiser of the Imperial German Navy. A member of the Prinz Adalbert class, the ship was intended to act as a scout for the fleet's battleships and to patrol the German colonial empire. The Prinz Adalbert class was based on the earlier armored cruiser Prinz Heinrich, but with improved armament and armor. Built in the early 1900s, Friedrich Carl served in the German fleet from 1904 to 1909, which included a period as flagship of the reconnaissance squadron and a cruise to the Mediterranean Sea.\"\n",
    "test(weights, bias, text)"
   ]
  },
  {
   "cell_type": "code",
   "execution_count": 28,
   "id": "05314a18-4b48-4968-8157-abffada3cd9b",
   "metadata": {},
   "outputs": [
    {
     "data": {
      "text/plain": [
       "'en'"
      ]
     },
     "execution_count": 28,
     "metadata": {},
     "output_type": "execute_result"
    }
   ],
   "source": [
    "text = \"that Samuel Lander founded the Williamston Female College in an abandoned hotel?\"\n",
    "test(weights, bias, text)"
   ]
  },
  {
   "cell_type": "code",
   "execution_count": 29,
   "id": "bbfc6517-ab08-4bac-b29f-1cd8c74a91e6",
   "metadata": {},
   "outputs": [
    {
     "data": {
      "text/plain": [
       "'it'"
      ]
     },
     "execution_count": 29,
     "metadata": {},
     "output_type": "execute_result"
    }
   ],
   "source": [
    "text = \"Operazione Quercia (in tedesco Unternehmen Eiche) fu il nome in codice dato all'operazione militare condotta il 12 settembre 1943 dai paracadutisti tedeschi della 2. Fallschirmjäger-Division che portò alla liberazione di Benito Mussolini dalla prigionia a Campo Imperatore, sul Gran Sasso. Dopo essere stato arrestato il 25 luglio 1943, Mussolini venne condotto in varie località e alla fine trasferito a Campo Imperatore a fine estate del 1943, una zona isolata e raggiungibile solo tramite funivia, dove era guardato a vista. Per non rischiare di farlo cadere in mano agli Alleati, Adolf Hitler ordinò al generale dei paracadutisti Kurt Student di organizzare una missione per la liberazione del Duce servendosi dei suoi Fallschirmjäger, a cui vennero aggregati, per ragioni politiche, sedici uomini del Servizio di sicurezza (Sicherheitsdienst - SD) delle SS agli ordini del capitano Otto Skorzeny.\"\n",
    "test(weights, bias, text)"
   ]
  },
  {
   "cell_type": "code",
   "execution_count": 30,
   "id": "93b97544-c638-4ebe-93d6-9fc88b6129fd",
   "metadata": {},
   "outputs": [
    {
     "data": {
      "text/plain": [
       "'it'"
      ]
     },
     "execution_count": 30,
     "metadata": {},
     "output_type": "execute_result"
    }
   ],
   "source": [
    "text = \"Il 12 settembre, pochi giorni dopo il Proclama Badoglio che annunciava la resa incondizionata delle forze italiane agli Alleati, i paracadutisti tedeschi lanciarono un audace assalto per liberare Mussolini, che si risolse con successo e senza perdite per gli assalitori. Grazie ai suoi contatti diretti con Ernst Kaltenbrunner e Heinrich Himmler, fin da subito Skorzeny riuscì a imporre la propria versione distorta e autocelebrativa dei fatti avvenuti sul Gran Sasso\"\n",
    "test(weights, bias, text)"
   ]
  },
  {
   "cell_type": "code",
   "execution_count": null,
   "id": "d9ad37b2-290b-4c78-801a-e084b5ab9993",
   "metadata": {},
   "outputs": [],
   "source": []
  }
 ],
 "metadata": {
  "kernelspec": {
   "display_name": "Python 3 (ipykernel)",
   "language": "python",
   "name": "python3"
  },
  "language_info": {
   "codemirror_mode": {
    "name": "ipython",
    "version": 3
   },
   "file_extension": ".py",
   "mimetype": "text/x-python",
   "name": "python",
   "nbconvert_exporter": "python",
   "pygments_lexer": "ipython3",
   "version": "3.11.3"
  }
 },
 "nbformat": 4,
 "nbformat_minor": 5
}
