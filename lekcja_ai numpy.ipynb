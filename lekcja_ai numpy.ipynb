{
 "cells": [
  {
   "cell_type": "code",
   "execution_count": 401,
   "id": "66b96479-d81e-446f-9768-8c42e3646857",
   "metadata": {},
   "outputs": [],
   "source": [
    "import os\n",
    "import string\n",
    "from collections import defaultdict\n",
    "import re\n",
    "import numpy as np\n",
    "\n",
    "np.random.seed(42)"
   ]
  },
  {
   "cell_type": "code",
   "execution_count": 402,
   "id": "84f7d912-806c-474c-99e2-33d7cf958c1a",
   "metadata": {},
   "outputs": [],
   "source": [
    "def letter_freq(text: str):\n",
    "    text = [x for x in text.lower() if x in string.ascii_lowercase]\n",
    "    total_len = len(text)\n",
    "\n",
    "    freq = defaultdict(int)\n",
    "    for c in string.ascii_lowercase:\n",
    "        freq[c] = 0\n",
    "        \n",
    "    for c in text:\n",
    "        freq[c] += 1\n",
    "    return np.array(list(freq.values())) / total_len"
   ]
  },
  {
   "cell_type": "code",
   "execution_count": 403,
   "id": "c561bf78-2f9b-475b-8f0b-e8200a4c93f8",
   "metadata": {},
   "outputs": [
    {
     "data": {
      "text/plain": [
       "array([0.75, 0.25, 0.  , 0.  , 0.  , 0.  , 0.  , 0.  , 0.  , 0.  , 0.  ,\n",
       "       0.  , 0.  , 0.  , 0.  , 0.  , 0.  , 0.  , 0.  , 0.  , 0.  , 0.  ,\n",
       "       0.  , 0.  , 0.  , 0.  ])"
      ]
     },
     "execution_count": 403,
     "metadata": {},
     "output_type": "execute_result"
    }
   ],
   "source": [
    "letter_freq(\"aaab\")"
   ]
  },
  {
   "cell_type": "code",
   "execution_count": 404,
   "id": "5534e3f3-221b-4371-8190-9766b8941206",
   "metadata": {},
   "outputs": [],
   "source": [
    "def load_data(path: str):\n",
    "    files = os.listdir(path)\n",
    "    data = []\n",
    "    labels = []\n",
    "    for file in files:\n",
    "        with open(os.path.join(path, file), \"r\", encoding=\"utf-8\") as f:\n",
    "            file_data = letter_freq(f.read())\n",
    "            if file[0].isdigit():\n",
    "                language = re.match(r'[A-Za-z0-9]+_([a-z]{2})\\.txt', file)\n",
    "            else:\n",
    "                language = re.match(r'([a-z]{2})_[A-Za-z0-9]+\\.txt', file)\n",
    "            data.append(file_data)\n",
    "            labels.append(language.group(1))\n",
    "    return np.array(data), np.array(labels)"
   ]
  },
  {
   "cell_type": "code",
   "execution_count": 405,
   "id": "e748cc54-b122-49fb-92ca-93d319f3812f",
   "metadata": {},
   "outputs": [
    {
     "data": {
      "text/plain": [
       "array([[8.53052297e-02, 2.70431497e-02, 3.61900974e-02, 3.55935574e-02,\n",
       "        1.17120700e-01, 2.06800557e-02, 2.00835156e-02, 5.78643866e-02,\n",
       "        6.32332472e-02, 6.16424737e-03, 6.95963412e-03, 3.97693378e-02,\n",
       "        2.08789024e-02, 6.18413203e-02, 6.40286339e-02, 1.43169616e-02,\n",
       "        1.98846689e-04, 7.01928813e-02, 7.17836548e-02, 1.03797972e-01,\n",
       "        3.99681845e-02, 7.75502088e-03, 1.39192682e-02, 9.94233446e-04,\n",
       "        1.43169616e-02, 0.00000000e+00],\n",
       "       [1.13550341e-01, 9.84102952e-03, 4.50416351e-02, 3.36866011e-02,\n",
       "        1.36260409e-01, 1.02195307e-02, 1.93035579e-02, 6.81302044e-03,\n",
       "        1.00681302e-01, 0.00000000e+00, 0.00000000e+00, 6.69947010e-02,\n",
       "        2.57380772e-02, 6.51021953e-02, 8.51627555e-02, 2.91445874e-02,\n",
       "        2.27100681e-03, 6.92657078e-02, 5.86676760e-02, 8.36487509e-02,\n",
       "        2.08175625e-02, 1.40045420e-02, 0.00000000e+00, 0.00000000e+00,\n",
       "        0.00000000e+00, 3.78501136e-03],\n",
       "       [7.56153261e-02, 2.20756153e-02, 2.53742705e-02, 4.59274296e-02,\n",
       "        1.28140066e-01, 2.43592997e-02, 1.72545039e-02, 5.43009388e-02,\n",
       "        6.52118752e-02, 5.32859680e-03, 1.75082466e-02, 5.10022837e-02,\n",
       "        1.90307029e-02, 7.76452677e-02, 7.00329866e-02, 1.62395331e-02,\n",
       "        1.26871352e-03, 5.96295357e-02, 7.48540979e-02, 7.66302969e-02,\n",
       "        2.46130424e-02, 9.64222279e-03, 2.15681299e-02, 3.80614057e-03,\n",
       "        1.24333925e-02, 5.07485410e-04],\n",
       "       [1.04286196e-01, 6.24367195e-03, 3.44245697e-02, 4.45494431e-02,\n",
       "        1.13061087e-01, 8.09989875e-03, 2.56496794e-02, 5.56868039e-03,\n",
       "        1.40060749e-01, 1.68747891e-04, 6.41241984e-03, 6.64866689e-02,\n",
       "        2.63246709e-02, 7.15491056e-02, 8.20114749e-02, 3.40870739e-02,\n",
       "        3.71245359e-03, 5.02868714e-02, 4.28619642e-02, 6.93553831e-02,\n",
       "        3.35808302e-02, 1.51873102e-02, 6.74991563e-03, 1.68747891e-04,\n",
       "        3.37495781e-04, 8.77489031e-03],\n",
       "       [8.35452945e-02, 1.38916063e-02, 2.87614948e-02, 5.40011739e-02,\n",
       "        1.22089611e-01, 1.78047349e-02, 2.62179613e-02, 5.65447075e-02,\n",
       "        7.04363138e-02, 2.34787713e-03, 1.25220113e-02, 3.85443162e-02,\n",
       "        3.01310898e-02, 7.74799452e-02, 6.33926824e-02, 1.99569556e-02,\n",
       "        3.91312855e-04, 5.22402661e-02, 7.51320681e-02, 8.13930738e-02,\n",
       "        2.77832127e-02, 1.03697906e-02, 2.07395813e-02, 3.91312855e-04,\n",
       "        1.36959499e-02, 1.95656427e-04],\n",
       "       [1.11448598e-01, 9.11214953e-03, 4.00700935e-02, 4.11214953e-02,\n",
       "        1.14602804e-01, 8.99532710e-03, 1.65887850e-02, 1.34345794e-02,\n",
       "        1.21495327e-01, 0.00000000e+00, 2.33644860e-04, 7.46495327e-02,\n",
       "        2.65186916e-02, 7.24299065e-02, 8.35280374e-02, 2.45327103e-02,\n",
       "        1.86915888e-03, 6.69392523e-02, 5.14018692e-02, 6.67056075e-02,\n",
       "        2.41822430e-02, 1.51869159e-02, 1.40186916e-03, 1.16822430e-04,\n",
       "        0.00000000e+00, 1.34345794e-02]])"
      ]
     },
     "execution_count": 405,
     "metadata": {},
     "output_type": "execute_result"
    }
   ],
   "source": [
    "data, labels = load_data(\"./dataset/train\")\n",
    "data"
   ]
  },
  {
   "cell_type": "code",
   "execution_count": 406,
   "id": "007d9e0b-214e-4d0b-b263-92e75ebc489a",
   "metadata": {},
   "outputs": [
    {
     "data": {
      "text/plain": [
       "array(['en', 'it', 'en', 'it', 'en', 'it'], dtype='<U2')"
      ]
     },
     "execution_count": 406,
     "metadata": {},
     "output_type": "execute_result"
    }
   ],
   "source": [
    "labels"
   ]
  },
  {
   "cell_type": "code",
   "execution_count": 407,
   "id": "5f137d6c-5f9c-478c-a043-d37a339c2f6a",
   "metadata": {},
   "outputs": [],
   "source": [
    "def encode_labels(labels):\n",
    "    return np.where(labels==\"en\", 1, -1)"
   ]
  },
  {
   "cell_type": "code",
   "execution_count": 408,
   "id": "337633b0-583d-4648-a8d0-9f31ee5fa427",
   "metadata": {},
   "outputs": [
    {
     "data": {
      "text/plain": [
       "array([ 1, -1,  1, -1,  1, -1])"
      ]
     },
     "execution_count": 408,
     "metadata": {},
     "output_type": "execute_result"
    }
   ],
   "source": [
    "encoded_labels = encode_labels(labels)\n",
    "encoded_labels"
   ]
  },
  {
   "cell_type": "code",
   "execution_count": 409,
   "id": "b0e603c8-54bd-4a42-9871-738c0aae768f",
   "metadata": {},
   "outputs": [],
   "source": [
    "def train(data, labels, epochs, learning_rate):\n",
    "    num_features = len(data[0])\n",
    "    weights = np.random.uniform(-0.5, 0.5, num_features)\n",
    "    bias = np.random.uniform(-0.5, 0.5)\n",
    "\n",
    "    def activation(x):\n",
    "        return 1 if x >= 0 else -1\n",
    "\n",
    "    for epoch in range(epochs):\n",
    "        ok = 0\n",
    "        for x, y in zip(data, labels):\n",
    "            output = np.sum(weights * x) + bias\n",
    "            prediction = activation(output)\n",
    "\n",
    "            if prediction != y:\n",
    "                weights += x * y + learning_rate\n",
    "                bias += y#learning_rate * y\n",
    "            else:\n",
    "                ok += 1\n",
    "        print(f\"Epoch {epoch+1}/{epochs} accuracy: {ok/len(data)}\")\n",
    "    \n",
    "    return weights, bias"
   ]
  },
  {
   "cell_type": "code",
   "execution_count": 410,
   "id": "58dc8bfa-9204-408f-ba81-dad90293ca6b",
   "metadata": {},
   "outputs": [
    {
     "name": "stdout",
     "output_type": "stream",
     "text": [
      "Epoch 1/15 accuracy: 0.16666666666666666\n",
      "Epoch 2/15 accuracy: 0.0\n",
      "Epoch 3/15 accuracy: 0.3333333333333333\n",
      "Epoch 4/15 accuracy: 1.0\n",
      "Epoch 5/15 accuracy: 1.0\n",
      "Epoch 6/15 accuracy: 1.0\n",
      "Epoch 7/15 accuracy: 1.0\n",
      "Epoch 8/15 accuracy: 1.0\n",
      "Epoch 9/15 accuracy: 1.0\n",
      "Epoch 10/15 accuracy: 1.0\n",
      "Epoch 11/15 accuracy: 1.0\n",
      "Epoch 12/15 accuracy: 1.0\n",
      "Epoch 13/15 accuracy: 1.0\n",
      "Epoch 14/15 accuracy: 1.0\n",
      "Epoch 15/15 accuracy: 1.0\n"
     ]
    },
    {
     "data": {
      "text/plain": [
       "(array([1.06444027, 2.0454838 , 1.62690974, 1.5802715 , 1.03672045,\n",
       "        1.23596838, 1.02827835, 2.19520257, 1.09166988, 1.74439274,\n",
       "        1.0868056 , 1.73102586, 1.77307692, 1.1534651 , 0.97882375,\n",
       "        1.05627055, 1.28734754, 1.47392771, 1.53959769, 1.3214834 ,\n",
       "        1.62182012, 1.08410599, 1.39629294, 1.38041439, 1.54900451,\n",
       "        1.72234521]),\n",
       " np.float64(-1.3003262178416404))"
      ]
     },
     "execution_count": 410,
     "metadata": {},
     "output_type": "execute_result"
    }
   ],
   "source": [
    "weights, bias = train(data, encoded_labels, epochs=15, learning_rate=0.1)\n",
    "weights, bias"
   ]
  },
  {
   "cell_type": "code",
   "execution_count": 411,
   "id": "07043821",
   "metadata": {},
   "outputs": [],
   "source": [
    "def test(data, labels, weights, bias):\n",
    "    def activation(x):\n",
    "        return 1 if x >= 0 else -1\n",
    "    \n",
    "    ok = 0\n",
    "    for x, y in zip(data, labels):\n",
    "        output = np.sum(weights * x) + bias\n",
    "        prediction = activation(output)\n",
    "        if prediction == y:\n",
    "            ok += 1\n",
    "\n",
    "    print(f\"Accuracy test: {ok/len(data)}\")"
   ]
  },
  {
   "cell_type": "code",
   "execution_count": 412,
   "id": "78706305",
   "metadata": {},
   "outputs": [
    {
     "data": {
      "text/plain": [
       "array([[0.0877193 , 0.03508772, 0.        , 0.        , 0.15789474,\n",
       "        0.01754386, 0.        , 0.07017544, 0.05263158, 0.        ,\n",
       "        0.01754386, 0.03508772, 0.03508772, 0.05263158, 0.10526316,\n",
       "        0.01754386, 0.01754386, 0.05263158, 0.0877193 , 0.14035088,\n",
       "        0.01754386, 0.        , 0.        , 0.        , 0.        ,\n",
       "        0.        ],\n",
       "       [0.07042254, 0.        , 0.04225352, 0.01408451, 0.09859155,\n",
       "        0.02816901, 0.01408451, 0.05633803, 0.09859155, 0.        ,\n",
       "        0.        , 0.04225352, 0.04225352, 0.09859155, 0.07042254,\n",
       "        0.01408451, 0.        , 0.04225352, 0.09859155, 0.04225352,\n",
       "        0.05633803, 0.02816901, 0.01408451, 0.        , 0.02816901,\n",
       "        0.        ],\n",
       "       [0.04761905, 0.        , 0.01587302, 0.04761905, 0.14285714,\n",
       "        0.01587302, 0.01587302, 0.07936508, 0.0952381 , 0.        ,\n",
       "        0.        , 0.01587302, 0.01587302, 0.0952381 , 0.06349206,\n",
       "        0.04761905, 0.        , 0.07936508, 0.06349206, 0.07936508,\n",
       "        0.01587302, 0.01587302, 0.04761905, 0.        , 0.        ,\n",
       "        0.        ],\n",
       "       [0.08      , 0.        , 0.02666667, 0.06666667, 0.12      ,\n",
       "        0.        , 0.02666667, 0.        , 0.13333333, 0.        ,\n",
       "        0.01333333, 0.06666667, 0.01333333, 0.08      , 0.08      ,\n",
       "        0.04      , 0.        , 0.04      , 0.06666667, 0.04      ,\n",
       "        0.02666667, 0.02666667, 0.04      , 0.        , 0.01333333,\n",
       "        0.        ],\n",
       "       [0.12244898, 0.02040816, 0.06122449, 0.04081633, 0.12244898,\n",
       "        0.        , 0.06122449, 0.02040816, 0.08163265, 0.        ,\n",
       "        0.        , 0.08163265, 0.        , 0.08163265, 0.04081633,\n",
       "        0.04081633, 0.        , 0.04081633, 0.06122449, 0.10204082,\n",
       "        0.        , 0.02040816, 0.        , 0.        , 0.        ,\n",
       "        0.        ],\n",
       "       [0.06153846, 0.01538462, 0.01538462, 0.01538462, 0.07692308,\n",
       "        0.01538462, 0.04615385, 0.04615385, 0.07692308, 0.01538462,\n",
       "        0.03076923, 0.06153846, 0.03076923, 0.09230769, 0.07692308,\n",
       "        0.03076923, 0.01538462, 0.04615385, 0.04615385, 0.04615385,\n",
       "        0.03076923, 0.01538462, 0.04615385, 0.01538462, 0.01538462,\n",
       "        0.01538462],\n",
       "       [0.06896552, 0.        , 0.02298851, 0.04597701, 0.10344828,\n",
       "        0.02298851, 0.03448276, 0.02298851, 0.16091954, 0.        ,\n",
       "        0.01149425, 0.05747126, 0.01149425, 0.08045977, 0.03448276,\n",
       "        0.01149425, 0.        , 0.08045977, 0.06896552, 0.06896552,\n",
       "        0.01149425, 0.01149425, 0.05747126, 0.        , 0.01149425,\n",
       "        0.        ],\n",
       "       [0.06153846, 0.01538462, 0.        , 0.        , 0.23076923,\n",
       "        0.        , 0.        , 0.12307692, 0.        , 0.        ,\n",
       "        0.        , 0.16923077, 0.        , 0.        , 0.01538462,\n",
       "        0.        , 0.        , 0.04615385, 0.26153846, 0.03076923,\n",
       "        0.01538462, 0.        , 0.        , 0.        , 0.03076923,\n",
       "        0.        ],\n",
       "       [0.08988764, 0.02247191, 0.02247191, 0.01123596, 0.12359551,\n",
       "        0.01123596, 0.04494382, 0.03370787, 0.07865169, 0.01123596,\n",
       "        0.        , 0.03370787, 0.01123596, 0.07865169, 0.06741573,\n",
       "        0.05617978, 0.        , 0.07865169, 0.08988764, 0.04494382,\n",
       "        0.04494382, 0.02247191, 0.01123596, 0.        , 0.01123596,\n",
       "        0.        ],\n",
       "       [0.11940299, 0.        , 0.02985075, 0.        , 0.07462687,\n",
       "        0.02985075, 0.        , 0.04477612, 0.13432836, 0.        ,\n",
       "        0.        , 0.04477612, 0.05970149, 0.11940299, 0.02985075,\n",
       "        0.02985075, 0.        , 0.02985075, 0.11940299, 0.07462687,\n",
       "        0.02985075, 0.        , 0.        , 0.        , 0.02985075,\n",
       "        0.        ],\n",
       "       [0.14084507, 0.02816901, 0.        , 0.02816901, 0.16901408,\n",
       "        0.        , 0.        , 0.01408451, 0.02816901, 0.        ,\n",
       "        0.01408451, 0.07042254, 0.02816901, 0.04225352, 0.07042254,\n",
       "        0.02816901, 0.01408451, 0.07042254, 0.09859155, 0.11267606,\n",
       "        0.04225352, 0.        , 0.        , 0.        , 0.        ,\n",
       "        0.        ],\n",
       "       [0.1       , 0.        , 0.025     , 0.025     , 0.125     ,\n",
       "        0.025     , 0.        , 0.        , 0.1       , 0.        ,\n",
       "        0.        , 0.0625    , 0.05      , 0.0875    , 0.0875    ,\n",
       "        0.0125    , 0.025     , 0.05      , 0.05      , 0.075     ,\n",
       "        0.05      , 0.0375    , 0.        , 0.        , 0.        ,\n",
       "        0.0125    ],\n",
       "       [0.13043478, 0.        , 0.        , 0.04347826, 0.17391304,\n",
       "        0.01449275, 0.        , 0.01449275, 0.08695652, 0.        ,\n",
       "        0.        , 0.10144928, 0.        , 0.10144928, 0.05797101,\n",
       "        0.10144928, 0.        , 0.07246377, 0.02898551, 0.04347826,\n",
       "        0.01449275, 0.        , 0.        , 0.        , 0.        ,\n",
       "        0.01449275],\n",
       "       [0.05813953, 0.        , 0.05813953, 0.03488372, 0.20930233,\n",
       "        0.        , 0.01162791, 0.        , 0.04651163, 0.        ,\n",
       "        0.        , 0.11627907, 0.02325581, 0.08139535, 0.11627907,\n",
       "        0.03488372, 0.        , 0.04651163, 0.03488372, 0.04651163,\n",
       "        0.03488372, 0.01162791, 0.01162791, 0.        , 0.        ,\n",
       "        0.02325581],\n",
       "       [0.1       , 0.        , 0.1       , 0.        , 0.1       ,\n",
       "        0.        , 0.02      , 0.02      , 0.06      , 0.        ,\n",
       "        0.        , 0.04      , 0.        , 0.14      , 0.14      ,\n",
       "        0.06      , 0.        , 0.06      , 0.04      , 0.06      ,\n",
       "        0.04      , 0.        , 0.        , 0.        , 0.        ,\n",
       "        0.02      ],\n",
       "       [0.15625   , 0.        , 0.03125   , 0.        , 0.125     ,\n",
       "        0.03125   , 0.03125   , 0.        , 0.0625    , 0.        ,\n",
       "        0.        , 0.09375   , 0.03125   , 0.078125  , 0.09375   ,\n",
       "        0.046875  , 0.        , 0.078125  , 0.078125  , 0.015625  ,\n",
       "        0.015625  , 0.03125   , 0.        , 0.        , 0.        ,\n",
       "        0.        ],\n",
       "       [0.11538462, 0.00961538, 0.02884615, 0.05769231, 0.05769231,\n",
       "        0.01923077, 0.00961538, 0.        , 0.15384615, 0.        ,\n",
       "        0.        , 0.07692308, 0.05769231, 0.06730769, 0.10576923,\n",
       "        0.        , 0.        , 0.04807692, 0.03846154, 0.08653846,\n",
       "        0.02884615, 0.02884615, 0.        , 0.        , 0.        ,\n",
       "        0.00961538],\n",
       "       [0.06097561, 0.        , 0.09756098, 0.04878049, 0.17073171,\n",
       "        0.        , 0.03658537, 0.04878049, 0.1097561 , 0.        ,\n",
       "        0.        , 0.08536585, 0.03658537, 0.08536585, 0.06097561,\n",
       "        0.        , 0.        , 0.04878049, 0.03658537, 0.01219512,\n",
       "        0.02439024, 0.03658537, 0.        , 0.        , 0.        ,\n",
       "        0.        ],\n",
       "       [0.10638298, 0.0106383 , 0.03191489, 0.0106383 , 0.08510638,\n",
       "        0.        , 0.05319149, 0.0106383 , 0.12765957, 0.        ,\n",
       "        0.        , 0.06382979, 0.0212766 , 0.07446809, 0.11702128,\n",
       "        0.05319149, 0.0106383 , 0.06382979, 0.05319149, 0.0106383 ,\n",
       "        0.04255319, 0.03191489, 0.        , 0.        , 0.        ,\n",
       "        0.0212766 ],\n",
       "       [0.2       , 0.        , 0.04      , 0.02666667, 0.08      ,\n",
       "        0.02666667, 0.04      , 0.        , 0.09333333, 0.        ,\n",
       "        0.        , 0.06666667, 0.04      , 0.09333333, 0.02666667,\n",
       "        0.06666667, 0.01333333, 0.04      , 0.06666667, 0.02666667,\n",
       "        0.05333333, 0.        , 0.        , 0.        , 0.        ,\n",
       "        0.        ]])"
      ]
     },
     "execution_count": 412,
     "metadata": {},
     "output_type": "execute_result"
    }
   ],
   "source": [
    "data, labels = load_data(\"./dataset/test\")\n",
    "data"
   ]
  },
  {
   "cell_type": "code",
   "execution_count": 413,
   "id": "de978478",
   "metadata": {},
   "outputs": [
    {
     "name": "stdout",
     "output_type": "stream",
     "text": [
      "Accuracy test: 0.75\n"
     ]
    }
   ],
   "source": [
    "labels = encode_labels(labels)\n",
    "test(data, labels, weights, bias)"
   ]
  },
  {
   "cell_type": "code",
   "execution_count": 414,
   "id": "fa696a45-4dc0-4a4d-87e2-1509b584cf86",
   "metadata": {},
   "outputs": [],
   "source": [
    "# def test(weights, bias, text):\n",
    "#     def activation(x):\n",
    "#         return 1 if x >= 0 else -1\n",
    "\n",
    "#     data = letter_freq(text)\n",
    "#     output = np.sum(weights * data) + bias\n",
    "#     prediction = activation(output)\n",
    "#     return \"en\" if prediction == 1 else \"it\""
   ]
  },
  {
   "cell_type": "code",
   "execution_count": 415,
   "id": "62d11a3f-d66f-4da8-93d8-45d907a43f9b",
   "metadata": {},
   "outputs": [],
   "source": [
    "# text = \"SMS Friedrich Carl was an armored cruiser of the Imperial German Navy. A member of the Prinz Adalbert class, the ship was intended to act as a scout for the fleet's battleships and to patrol the German colonial empire. The Prinz Adalbert class was based on the earlier armored cruiser Prinz Heinrich, but with improved armament and armor. Built in the early 1900s, Friedrich Carl served in the German fleet from 1904 to 1909, which included a period as flagship of the reconnaissance squadron and a cruise to the Mediterranean Sea.\"\n",
    "# test(weights, bias, text)"
   ]
  },
  {
   "cell_type": "code",
   "execution_count": 416,
   "id": "05314a18-4b48-4968-8157-abffada3cd9b",
   "metadata": {},
   "outputs": [],
   "source": [
    "# text = \"that Samuel Lander founded the Williamston Female College in an abandoned hotel?\"\n",
    "# test(weights, bias, text)"
   ]
  },
  {
   "cell_type": "code",
   "execution_count": 417,
   "id": "bbfc6517-ab08-4bac-b29f-1cd8c74a91e6",
   "metadata": {},
   "outputs": [],
   "source": [
    "# text = \"Operazione Quercia (in tedesco Unternehmen Eiche) fu il nome in codice dato all'operazione militare condotta il 12 settembre 1943 dai paracadutisti tedeschi della 2. Fallschirmjäger-Division che portò alla liberazione di Benito Mussolini dalla prigionia a Campo Imperatore, sul Gran Sasso. Dopo essere stato arrestato il 25 luglio 1943, Mussolini venne condotto in varie località e alla fine trasferito a Campo Imperatore a fine estate del 1943, una zona isolata e raggiungibile solo tramite funivia, dove era guardato a vista. Per non rischiare di farlo cadere in mano agli Alleati, Adolf Hitler ordinò al generale dei paracadutisti Kurt Student di organizzare una missione per la liberazione del Duce servendosi dei suoi Fallschirmjäger, a cui vennero aggregati, per ragioni politiche, sedici uomini del Servizio di sicurezza (Sicherheitsdienst - SD) delle SS agli ordini del capitano Otto Skorzeny.\"\n",
    "# test(weights, bias, text)"
   ]
  },
  {
   "cell_type": "code",
   "execution_count": 418,
   "id": "93b97544-c638-4ebe-93d6-9fc88b6129fd",
   "metadata": {},
   "outputs": [],
   "source": [
    "# text = \"Il 12 settembre, pochi giorni dopo il Proclama Badoglio che annunciava la resa incondizionata delle forze italiane agli Alleati, i paracadutisti tedeschi lanciarono un audace assalto per liberare Mussolini, che si risolse con successo e senza perdite per gli assalitori. Grazie ai suoi contatti diretti con Ernst Kaltenbrunner e Heinrich Himmler, fin da subito Skorzeny riuscì a imporre la propria versione distorta e autocelebrativa dei fatti avvenuti sul Gran Sasso\"\n",
    "# test(weights, bias, text)"
   ]
  },
  {
   "cell_type": "code",
   "execution_count": 419,
   "id": "d9ad37b2-290b-4c78-801a-e084b5ab9993",
   "metadata": {},
   "outputs": [
    {
     "name": "stdout",
     "output_type": "stream",
     "text": [
      "1 ******************************\n",
      "Epoch 1/15 accuracy: 0.5\n",
      "Epoch 2/15 accuracy: 0.6666666666666666\n",
      "Epoch 3/15 accuracy: 1.0\n",
      "Epoch 4/15 accuracy: 1.0\n",
      "Epoch 5/15 accuracy: 1.0\n",
      "Epoch 6/15 accuracy: 1.0\n",
      "Epoch 7/15 accuracy: 1.0\n",
      "Epoch 8/15 accuracy: 1.0\n",
      "Epoch 9/15 accuracy: 1.0\n",
      "Epoch 10/15 accuracy: 1.0\n",
      "Epoch 11/15 accuracy: 1.0\n",
      "Epoch 12/15 accuracy: 1.0\n",
      "Epoch 13/15 accuracy: 1.0\n",
      "Epoch 14/15 accuracy: 1.0\n",
      "Epoch 15/15 accuracy: 1.0\n",
      "Accuracy test: 0.7\n",
      "0.1 ******************************\n",
      "Epoch 1/15 accuracy: 0.16666666666666666\n",
      "Epoch 2/15 accuracy: 0.16666666666666666\n",
      "Epoch 3/15 accuracy: 0.0\n",
      "Epoch 4/15 accuracy: 0.16666666666666666\n",
      "Epoch 5/15 accuracy: 0.0\n",
      "Epoch 6/15 accuracy: 0.16666666666666666\n",
      "Epoch 7/15 accuracy: 0.0\n",
      "Epoch 8/15 accuracy: 0.3333333333333333\n",
      "Epoch 9/15 accuracy: 0.16666666666666666\n",
      "Epoch 10/15 accuracy: 0.3333333333333333\n",
      "Epoch 11/15 accuracy: 1.0\n",
      "Epoch 12/15 accuracy: 1.0\n",
      "Epoch 13/15 accuracy: 1.0\n",
      "Epoch 14/15 accuracy: 1.0\n",
      "Epoch 15/15 accuracy: 1.0\n",
      "Accuracy test: 0.7\n",
      "0.01 ******************************\n",
      "Epoch 1/15 accuracy: 0.16666666666666666\n",
      "Epoch 2/15 accuracy: 0.0\n",
      "Epoch 3/15 accuracy: 0.0\n",
      "Epoch 4/15 accuracy: 0.0\n",
      "Epoch 5/15 accuracy: 0.0\n",
      "Epoch 6/15 accuracy: 0.0\n",
      "Epoch 7/15 accuracy: 0.0\n",
      "Epoch 8/15 accuracy: 0.0\n",
      "Epoch 9/15 accuracy: 0.0\n",
      "Epoch 10/15 accuracy: 0.0\n",
      "Epoch 11/15 accuracy: 0.0\n",
      "Epoch 12/15 accuracy: 0.0\n",
      "Epoch 13/15 accuracy: 0.0\n",
      "Epoch 14/15 accuracy: 0.0\n",
      "Epoch 15/15 accuracy: 0.0\n",
      "Accuracy test: 0.55\n",
      "0.001 ******************************\n",
      "Epoch 1/15 accuracy: 0.16666666666666666\n",
      "Epoch 2/15 accuracy: 0.0\n",
      "Epoch 3/15 accuracy: 0.0\n",
      "Epoch 4/15 accuracy: 0.0\n",
      "Epoch 5/15 accuracy: 0.0\n",
      "Epoch 6/15 accuracy: 0.0\n",
      "Epoch 7/15 accuracy: 0.0\n",
      "Epoch 8/15 accuracy: 0.0\n",
      "Epoch 9/15 accuracy: 0.0\n",
      "Epoch 10/15 accuracy: 0.0\n",
      "Epoch 11/15 accuracy: 0.0\n",
      "Epoch 12/15 accuracy: 0.0\n",
      "Epoch 13/15 accuracy: 0.0\n",
      "Epoch 14/15 accuracy: 0.0\n",
      "Epoch 15/15 accuracy: 0.0\n",
      "Accuracy test: 0.5\n",
      "0.0001 ******************************\n",
      "Epoch 1/15 accuracy: 0.16666666666666666\n",
      "Epoch 2/15 accuracy: 0.0\n",
      "Epoch 3/15 accuracy: 0.0\n",
      "Epoch 4/15 accuracy: 0.0\n",
      "Epoch 5/15 accuracy: 0.5\n",
      "Epoch 6/15 accuracy: 0.6666666666666666\n",
      "Epoch 7/15 accuracy: 0.6666666666666666\n",
      "Epoch 8/15 accuracy: 0.6666666666666666\n",
      "Epoch 9/15 accuracy: 1.0\n",
      "Epoch 10/15 accuracy: 1.0\n",
      "Epoch 11/15 accuracy: 1.0\n",
      "Epoch 12/15 accuracy: 1.0\n",
      "Epoch 13/15 accuracy: 1.0\n",
      "Epoch 14/15 accuracy: 1.0\n",
      "Epoch 15/15 accuracy: 1.0\n",
      "Accuracy test: 0.8\n"
     ]
    }
   ],
   "source": [
    "for lr in [1, 0.1, 0.01, 0.001, 0.0001]:\n",
    "    print(lr, 30 * \"*\")\n",
    "    data, labels = load_data(\"./dataset/train\")\n",
    "    encoded_labels = encode_labels(labels)\n",
    "\n",
    "    weights, bias = train(data, encoded_labels, epochs=15, learning_rate=lr)\n",
    "    data, labels = load_data(\"./dataset/test\")\n",
    "    labels = encode_labels(labels)\n",
    "    test(data, labels, weights, bias)"
   ]
  },
  {
   "cell_type": "code",
   "execution_count": null,
   "id": "6bd0fda7",
   "metadata": {},
   "outputs": [],
   "source": []
  }
 ],
 "metadata": {
  "kernelspec": {
   "display_name": "venv",
   "language": "python",
   "name": "python3"
  },
  "language_info": {
   "codemirror_mode": {
    "name": "ipython",
    "version": 3
   },
   "file_extension": ".py",
   "mimetype": "text/x-python",
   "name": "python",
   "nbconvert_exporter": "python",
   "pygments_lexer": "ipython3",
   "version": "3.11.3"
  }
 },
 "nbformat": 4,
 "nbformat_minor": 5
}
